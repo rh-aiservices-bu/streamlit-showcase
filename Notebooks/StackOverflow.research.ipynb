{
 "cells": [
  {
   "cell_type": "markdown",
   "id": "7668170a-c300-4993-8977-d29494933f35",
   "metadata": {},
   "source": [
    "\n",
    "based on https://medium.com/codex/eda-stackoverflow-2020-70f22bea8f1c\n",
    "\n"
   ]
  },
  {
   "cell_type": "code",
   "execution_count": null,
   "id": "2ae3fa6b-9bd2-4ef4-a52a-fa226faa3074",
   "metadata": {},
   "outputs": [],
   "source": [
    "\n",
    "!pip install -q opendatasets"
   ]
  },
  {
   "cell_type": "code",
   "execution_count": null,
   "id": "051c8284-13d2-49dd-98d5-eecba485b308",
   "metadata": {},
   "outputs": [],
   "source": [
    "#importing the required library and downloading the required dataset\n",
    "import opendatasets as od\n",
    "od.download('stackoverflow-developer-survey-2020')\n",
    "\n",
    "#checking/verifying if the dataset was downloaded into the directory\n",
    "import os\n",
    "os.listdir('stackoverflow-developer-survey-2020')"
   ]
  },
  {
   "cell_type": "markdown",
   "id": "d8d5d1eb-311f-4cb7-8dfa-6ea89a1e10b2",
   "metadata": {},
   "source": [
    "Download file\n"
   ]
  },
  {
   "cell_type": "code",
   "execution_count": null,
   "id": "a08ae817-d24f-4a48-ab6e-829fd57ed97b",
   "metadata": {},
   "outputs": [],
   "source": [
    "import urllib.request\n",
    "\n",
    "url_2021='https://info.stackoverflowsolutions.com/rs/719-EMH-566/images/stack-overflow-developer-survey-2021.zip'\n",
    "zip_location=\"/tmp/stack-overflow-developer-survey-2021.zip\"\n",
    "\n",
    "urllib.request.urlretrieve(url_2021, zip_location)"
   ]
  },
  {
   "cell_type": "code",
   "execution_count": null,
   "id": "ec1dfb92-d1f2-4bb7-9de3-6c03bb65ba45",
   "metadata": {},
   "outputs": [],
   "source": [
    "import zipfile\n",
    "\n",
    "with zipfile.ZipFile(zip_location, 'r') as zip_ref:\n",
    "    zip_ref.extractall(\"/tmp/2021/\")\n",
    "\n",
    "import os\n",
    "os.listdir(\"/tmp/2021\")    "
   ]
  },
  {
   "cell_type": "code",
   "execution_count": null,
   "id": "eb289925-cbf7-422d-b744-17f68a6e88b6",
   "metadata": {},
   "outputs": [],
   "source": [
    "import pandas\n",
    "\n",
    "data = pandas.read_csv(\"/tmp/2021/survey_results_public.csv\")"
   ]
  },
  {
   "cell_type": "code",
   "execution_count": null,
   "id": "5bedd0d4-4524-45b4-806a-c42080b7e1e4",
   "metadata": {},
   "outputs": [],
   "source": [
    "data.shape"
   ]
  },
  {
   "cell_type": "code",
   "execution_count": null,
   "id": "a1a43a62-f08c-4e11-821f-204f92b59227",
   "metadata": {},
   "outputs": [],
   "source": [
    "data"
   ]
  },
  {
   "cell_type": "code",
   "execution_count": null,
   "id": "2fc61116-be1c-43a2-8368-4aa594cb28f0",
   "metadata": {},
   "outputs": [],
   "source": []
  },
  {
   "cell_type": "code",
   "execution_count": null,
   "id": "3adfaf70-9bb0-4803-a76a-96569fc65c65",
   "metadata": {},
   "outputs": [],
   "source": []
  }
 ],
 "metadata": {
  "kernelspec": {
   "display_name": "Python 3",
   "language": "python",
   "name": "python3"
  },
  "language_info": {
   "codemirror_mode": {
    "name": "ipython",
    "version": 3
   },
   "file_extension": ".py",
   "mimetype": "text/x-python",
   "name": "python",
   "nbconvert_exporter": "python",
   "pygments_lexer": "ipython3",
   "version": "3.9.2"
  }
 },
 "nbformat": 4,
 "nbformat_minor": 5
}
